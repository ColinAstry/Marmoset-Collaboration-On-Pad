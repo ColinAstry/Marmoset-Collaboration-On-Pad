{
 "cells": [
  {
   "cell_type": "code",
   "execution_count": 1,
   "metadata": {},
   "outputs": [
    {
     "ename": "OSError",
     "evalue": "[WinError 123] 文件名、目录名或卷标语法不正确。: '--f=c:\\\\Users\\\\XuHaoxin\\\\AppData\\\\Roaming\\\\jupyter\\\\runtime\\\\kernel-v3f7a4400c56b41079f7c8a0fdc6b71c40a791fcbb.json'",
     "output_type": "error",
     "traceback": [
      "\u001b[1;31m---------------------------------------------------------------------------\u001b[0m",
      "\u001b[1;31mOSError\u001b[0m                                   Traceback (most recent call last)",
      "Cell \u001b[1;32mIn[1], line 27\u001b[0m\n\u001b[0;32m     17\u001b[0m             \u001b[38;5;66;03m# # Append the four new columns\u001b[39;00m\n\u001b[0;32m     18\u001b[0m             \u001b[38;5;66;03m# df_transposed['times'] = df_transposed['time'] / 1000\u001b[39;00m\n\u001b[0;32m     19\u001b[0m             \u001b[38;5;66;03m# df_transposed['timem'] = df_transposed['time'] / 60000\u001b[39;00m\n\u001b[1;32m   (...)\u001b[0m\n\u001b[0;32m     23\u001b[0m \n\u001b[0;32m     24\u001b[0m             \u001b[38;5;66;03m# Save the transposed DataFrame to an Excel file without column names\u001b[39;00m\n\u001b[0;32m     25\u001b[0m             df_transposed\u001b[38;5;241m.\u001b[39mto_excel(os\u001b[38;5;241m.\u001b[39mpath\u001b[38;5;241m.\u001b[39mjoin(dir_path, \u001b[38;5;124mf\u001b[39m\u001b[38;5;124m'\u001b[39m\u001b[38;5;132;01m{\u001b[39;00mos\u001b[38;5;241m.\u001b[39mpath\u001b[38;5;241m.\u001b[39msplitext(filename)[\u001b[38;5;241m0\u001b[39m]\u001b[38;5;132;01m}\u001b[39;00m\u001b[38;5;124m.xlsx\u001b[39m\u001b[38;5;124m'\u001b[39m), index\u001b[38;5;241m=\u001b[39m\u001b[38;5;28;01mFalse\u001b[39;00m, header\u001b[38;5;241m=\u001b[39m\u001b[38;5;28;01mFalse\u001b[39;00m)\n\u001b[1;32m---> 27\u001b[0m \u001b[43mconvert_csv_to_xlsx\u001b[49m\u001b[43m(\u001b[49m\u001b[43mdir_path\u001b[49m\u001b[43m)\u001b[49m\n",
      "Cell \u001b[1;32mIn[1], line 9\u001b[0m, in \u001b[0;36mconvert_csv_to_xlsx\u001b[1;34m(dir_path)\u001b[0m\n\u001b[0;32m      7\u001b[0m \u001b[38;5;28;01mdef\u001b[39;00m \u001b[38;5;21mconvert_csv_to_xlsx\u001b[39m(dir_path):\n\u001b[0;32m      8\u001b[0m     \u001b[38;5;66;03m# Loop through each file in the directory\u001b[39;00m\n\u001b[1;32m----> 9\u001b[0m     \u001b[38;5;28;01mfor\u001b[39;00m filename \u001b[38;5;129;01min\u001b[39;00m \u001b[43mos\u001b[49m\u001b[38;5;241;43m.\u001b[39;49m\u001b[43mlistdir\u001b[49m\u001b[43m(\u001b[49m\u001b[43mdir_path\u001b[49m\u001b[43m)\u001b[49m:\n\u001b[0;32m     10\u001b[0m         \u001b[38;5;28;01mif\u001b[39;00m filename\u001b[38;5;241m.\u001b[39mendswith(\u001b[38;5;124m'\u001b[39m\u001b[38;5;124m.csv\u001b[39m\u001b[38;5;124m'\u001b[39m):\n\u001b[0;32m     11\u001b[0m             \u001b[38;5;66;03m# Read the CSV data into a DataFrame without a header\u001b[39;00m\n\u001b[0;32m     12\u001b[0m             df \u001b[38;5;241m=\u001b[39m pd\u001b[38;5;241m.\u001b[39mread_csv(os\u001b[38;5;241m.\u001b[39mpath\u001b[38;5;241m.\u001b[39mjoin(dir_path, filename), header\u001b[38;5;241m=\u001b[39m\u001b[38;5;28;01mNone\u001b[39;00m)\n",
      "\u001b[1;31mOSError\u001b[0m: [WinError 123] 文件名、目录名或卷标语法不正确。: '--f=c:\\\\Users\\\\XuHaoxin\\\\AppData\\\\Roaming\\\\jupyter\\\\runtime\\\\kernel-v3f7a4400c56b41079f7c8a0fdc6b71c40a791fcbb.json'"
     ]
    }
   ],
   "source": [
    "import pandas as pd\n",
    "import os\n",
    "\n",
    "import sys\n",
    "\n",
    "dir_path = sys.argv[1]  # replace with your actual folder path\n",
    "def convert_csv_to_xlsx(dir_path):\n",
    "    # Loop through each file in the directory\n",
    "    for filename in os.listdir(dir_path):\n",
    "        if filename.endswith('.csv'):\n",
    "            # Read the CSV data into a DataFrame without a header\n",
    "            df = pd.read_csv(os.path.join(dir_path, filename), header=None)\n",
    "\n",
    "            # Transpose the DataFrame\n",
    "            df_transposed = df.transpose()\n",
    "\n",
    "            # # Append the four new columns\n",
    "            # df_transposed['times'] = df_transposed['time'] / 1000\n",
    "            # df_transposed['timem'] = df_transposed['time'] / 60000\n",
    "            # df_transposed['t0'] = \"\"\n",
    "            # df_transposed['note'] = \"\"\n",
    "\n",
    "\n",
    "            # Save the transposed DataFrame to an Excel file without column names\n",
    "            df_transposed.to_excel(os.path.join(dir_path, f'{os.path.splitext(filename)[0]}.xlsx'), index=False, header=False)\n",
    "\n",
    "convert_csv_to_xlsx(dir_path)\n"
   ]
  }
 ],
 "metadata": {
  "kernelspec": {
   "display_name": "Python 3",
   "language": "python",
   "name": "python3"
  },
  "language_info": {
   "codemirror_mode": {
    "name": "ipython",
    "version": 3
   },
   "file_extension": ".py",
   "mimetype": "text/x-python",
   "name": "python",
   "nbconvert_exporter": "python",
   "pygments_lexer": "ipython3",
   "version": "3.11.9"
  }
 },
 "nbformat": 4,
 "nbformat_minor": 2
}
