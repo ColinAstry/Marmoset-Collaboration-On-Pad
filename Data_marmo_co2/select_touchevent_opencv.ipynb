{
 "cells": [
  {
   "cell_type": "markdown",
   "metadata": {},
   "source": [
    "Detect when the picture on screen disappears, Mark down the time and select out the +- 5 slices. "
   ]
  },
  {
   "cell_type": "code",
   "execution_count": 12,
   "metadata": {},
   "outputs": [
    {
     "ename": "error",
     "evalue": "OpenCV(4.10.0) D:\\a\\opencv-python\\opencv-python\\opencv\\modules\\core\\include\\opencv2/core/private.cuda.hpp:106: error: (-216:No CUDA support) The library is compiled without CUDA support in function 'throw_no_cuda'\n",
     "output_type": "error",
     "traceback": [
      "\u001b[1;31m---------------------------------------------------------------------------\u001b[0m",
      "\u001b[1;31merror\u001b[0m                                     Traceback (most recent call last)",
      "Cell \u001b[1;32mIn[12], line 19\u001b[0m\n\u001b[0;32m     17\u001b[0m \u001b[38;5;66;03m# Upload the template to the GPU\u001b[39;00m\n\u001b[0;32m     18\u001b[0m template_gpu \u001b[38;5;241m=\u001b[39m cv2\u001b[38;5;241m.\u001b[39mcuda_GpuMat()\n\u001b[1;32m---> 19\u001b[0m \u001b[43mtemplate_gpu\u001b[49m\u001b[38;5;241;43m.\u001b[39;49m\u001b[43mupload\u001b[49m\u001b[43m(\u001b[49m\u001b[43mtemplate\u001b[49m\u001b[43m)\u001b[49m\n\u001b[0;32m     21\u001b[0m \u001b[38;5;66;03m# Get a list of all video files in the folder\u001b[39;00m\n\u001b[0;32m     22\u001b[0m video_files \u001b[38;5;241m=\u001b[39m glob\u001b[38;5;241m.\u001b[39mglob(os\u001b[38;5;241m.\u001b[39mpath\u001b[38;5;241m.\u001b[39mjoin(folder_path, \u001b[38;5;124m'\u001b[39m\u001b[38;5;124m*.mov\u001b[39m\u001b[38;5;124m'\u001b[39m))  \u001b[38;5;66;03m# Adjust the extension to .mov\u001b[39;00m\n",
      "\u001b[1;31merror\u001b[0m: OpenCV(4.10.0) D:\\a\\opencv-python\\opencv-python\\opencv\\modules\\core\\include\\opencv2/core/private.cuda.hpp:106: error: (-216:No CUDA support) The library is compiled without CUDA support in function 'throw_no_cuda'\n"
     ]
    }
   ],
   "source": [
    "import cv2\n",
    "import numpy as np\n",
    "import os\n",
    "import glob\n",
    "from datetime import datetime, timedelta\n",
    "\n",
    "# Define the folder path containing the videos\n",
    "folder_path = r'C:\\Users\\XuHaoxin\\Videos\\Trial'\n",
    "template_path = r'D:\\Codes\\Exp_marmo_co2\\img\\yellow_fly.png'\n",
    "\n",
    "# Load the template image\n",
    "template = cv2.imread(template_path, 0)\n",
    "if template is None:\n",
    "    raise FileNotFoundError(f\"Template image not found at path: {template_path}\")\n",
    "w, h = template.shape[::-1]\n",
    "\n",
    "# Upload the template to the GPU\n",
    "template_gpu = cv2.cuda_GpuMat()\n",
    "template_gpu.upload(template)\n",
    "\n",
    "# Get a list of all video files in the folder\n",
    "video_files = glob.glob(os.path.join(folder_path, '*.mov'))  # Adjust the extension to .mov\n",
    "\n",
    "for video_path in video_files:\n",
    "    # Extract the start time from the filename\n",
    "    filename = os.path.basename(video_path)\n",
    "    start_time_str = filename.split('_')[1].split('.')[0]\n",
    "    start_time = datetime.strptime(start_time_str, '%H%M%S')\n",
    "\n",
    "    # Load the video\n",
    "    cap = cv2.VideoCapture(video_path)\n",
    "\n",
    "    # Initialize variables\n",
    "    frame_count = 0\n",
    "    frames_with_template = []\n",
    "    disappearance_frames = []\n",
    "\n",
    "    while cap.isOpened():\n",
    "        ret, frame = cap.read()\n",
    "        if not ret:\n",
    "            break\n",
    "\n",
    "        frame_count += 1\n",
    "\n",
    "        # Convert the frame to grayscale and upload to GPU\n",
    "        gray_frame = cv2.cvtColor(frame, cv2.COLOR_BGR2GRAY)\n",
    "        gray_frame_gpu = cv2.cuda_GpuMat()\n",
    "        gray_frame_gpu.upload(gray_frame)\n",
    "\n",
    "        # Apply template matching on GPU\n",
    "        res_gpu = cv2.cuda.matchTemplate(gray_frame_gpu, template_gpu, cv2.TM_CCOEFF_NORMED)\n",
    "        res = res_gpu.download()\n",
    "\n",
    "        threshold = 0.8\n",
    "        loc = np.where(res >= threshold)\n",
    "\n",
    "        # Check if template is detected in the frame\n",
    "        if len(loc[0]) > 0:\n",
    "            frames_with_template.append(frame_count)\n",
    "        else:\n",
    "            if frames_with_template and (not disappearance_frames or frame_count > disappearance_frames[-1] + 30):\n",
    "                disappearance_frames.append(frame_count)\n",
    "\n",
    "    cap.release()\n",
    "\n",
    "    if disappearance_frames:\n",
    "        print(f\"Picture disappeared at frames: {disappearance_frames} in video {filename}\")\n",
    "    else:\n",
    "        print(f\"Picture did not disappear in the video {filename}.\")\n",
    "\n",
    "    # Save the slices of frames for each disappearance event\n",
    "    for idx, disappearance_frame in enumerate(disappearance_frames):\n",
    "        start_frame = max(0, disappearance_frame - 30)  # 30 frames before disappearance\n",
    "        end_frame = disappearance_frame + 30  # 30 frames after disappearance\n",
    "\n",
    "        cap = cv2.VideoCapture(video_path)\n",
    "        frame_count = 0\n",
    "        output_slice_path = os.path.join(folder_path, f'output_slice_{idx}_{filename}')\n",
    "        out = cv2.VideoWriter(output_slice_path, cv2.VideoWriter_fourcc(*'mp4v'), 30, (int(cap.get(3)), int(cap.get(4))))\n",
    "\n",
    "        while cap.isOpened():\n",
    "            ret, frame = cap.read()\n",
    "            if not ret or frame_count > end_frame:\n",
    "                break\n",
    "\n",
    "            frame_count += 1\n",
    "            if start_frame <= frame_count <= end_frame:\n",
    "                out.write(frame)\n",
    "\n",
    "        cap.release()\n",
    "        out.release()\n",
    "\n",
    "        # Calculate the disappearance time\n",
    "        fps = cap.get(cv2.CAP_PROP_FPS)\n",
    "        disappearance_time_seconds = disappearance_frame / fps\n",
    "        disappearance_time = start_time + timedelta(seconds=disappearance_time_seconds)\n",
    "        print(f\"Disappearance time for event {idx} in video {filename}: {disappearance_time.strftime('%Y%m%d_%H%M%S')}\")"
   ]
  },
  {
   "cell_type": "code",
   "execution_count": 15,
   "metadata": {},
   "outputs": [
    {
     "name": "stdout",
     "output_type": "stream",
     "text": [
      "Is CUDA available: True\n"
     ]
    }
   ],
   "source": [
    "import torch\n",
    "\n",
    "# Check if GPU is available\n",
    "print(\"Is CUDA available:\", torch.cuda.is_available())"
   ]
  }
 ],
 "metadata": {
  "kernelspec": {
   "display_name": "BigData",
   "language": "python",
   "name": "python3"
  },
  "language_info": {
   "codemirror_mode": {
    "name": "ipython",
    "version": 3
   },
   "file_extension": ".py",
   "mimetype": "text/x-python",
   "name": "python",
   "nbconvert_exporter": "python",
   "pygments_lexer": "ipython3",
   "version": "3.12.7"
  }
 },
 "nbformat": 4,
 "nbformat_minor": 2
}
