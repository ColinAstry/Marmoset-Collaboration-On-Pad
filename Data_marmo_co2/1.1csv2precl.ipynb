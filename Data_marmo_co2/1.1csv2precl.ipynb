{
 "cells": [
  {
   "cell_type": "markdown",
   "metadata": {},
   "source": [
    "将原始数据转换为预处理数据：csv-->xlsx；时间列处理"
   ]
  },
  {
   "cell_type": "code",
   "execution_count": 1,
   "metadata": {},
   "outputs": [
    {
     "name": "stdout",
     "output_type": "stream",
     "text": [
      "D:\\Research\\MarmoCo24fall\\Data_B8\\ToFilter\n"
     ]
    }
   ],
   "source": [
    "import os\n",
    "import subprocess\n",
    "import pandas as pd\n",
    "import sys\n",
    "import openpyxl\n",
    "from openpyxl import load_workbook\n",
    "from openpyxl.utils import get_column_letter, column_index_from_string\n",
    "\n",
    "folder_path = r'D:\\Research\\MarmoCo24fall\\Data_B8\\ToFilter'  # replace with your actual folder path\n",
    "print(folder_path)\n",
    "\n",
    "# Get the current directory\n",
    "current_dir = os.getcwd()"
   ]
  },
  {
   "cell_type": "markdown",
   "metadata": {},
   "source": [
    "将csv数据转置并储存为xlsx"
   ]
  },
  {
   "cell_type": "code",
   "execution_count": 2,
   "metadata": {},
   "outputs": [],
   "source": [
    "dir_path = folder_path  \n",
    "def convert_csv_to_xlsx(dir_path):\n",
    "    # Loop through each file in the directory\n",
    "    for filename in os.listdir(dir_path):\n",
    "        if filename.endswith('.csv'):\n",
    "            # Read the CSV data into a DataFrame without a header\n",
    "            df = pd.read_csv(os.path.join(dir_path, filename), header=None)\n",
    "\n",
    "            # Transpose the DataFrame\n",
    "            df_transposed = df.transpose()\n",
    "\n",
    "            # Save the transposed DataFrame to an Excel file without column names\n",
    "            df_transposed.to_excel(os.path.join(dir_path, f'{os.path.splitext(filename)[0]}.xlsx'), index=False, header=False)\n",
    "\n",
    "convert_csv_to_xlsx(dir_path)\n"
   ]
  },
  {
   "cell_type": "markdown",
   "metadata": {},
   "source": [
    "插入times、timem、t0、t1和note列"
   ]
  },
  {
   "cell_type": "code",
   "execution_count": 3,
   "metadata": {},
   "outputs": [
    {
     "name": "stdout",
     "output_type": "stream",
     "text": [
      "在文件 1101.xlsx 第 460 行的 \"time\" 列中存在空值。跳过该行。\n",
      "修改完成：D:\\Research\\MarmoCo24fall\\Data_B8\\ToFilter\\precl\\1101.xlsx\n",
      "在文件 1102.xlsx 第 303 行的 \"time\" 列中存在空值。跳过该行。\n",
      "修改完成：D:\\Research\\MarmoCo24fall\\Data_B8\\ToFilter\\precl\\1102.xlsx\n",
      "在文件 1105.xlsx 第 500 行的 \"time\" 列中存在空值。跳过该行。\n",
      "修改完成：D:\\Research\\MarmoCo24fall\\Data_B8\\ToFilter\\precl\\1105.xlsx\n",
      "所有 XLSX 文件已修改。\n"
     ]
    }
   ],
   "source": [
    "\n",
    "def modify_xlsx_files(folder_path):\n",
    "    output_folder = os.path.join(folder_path, 'precl')\n",
    "    if not os.path.exists(output_folder):\n",
    "        os.makedirs(output_folder)\n",
    "\n",
    "    xlsx_files = [f for f in os.listdir(folder_path) if f.endswith('.xlsx')]\n",
    "    for xlsx_file in xlsx_files:\n",
    "        file_path = os.path.join(folder_path, xlsx_file)\n",
    "        wb = openpyxl.load_workbook(file_path)\n",
    "        ws = wb.active\n",
    "\n",
    "        time_column = None\n",
    "        button_column = None\n",
    "        for col in ws.iter_cols(min_col=1, max_col=ws.max_column):\n",
    "            for cell in col:\n",
    "                if cell.value == 'time':\n",
    "                    time_column = cell.column_letter\n",
    "                if cell.value == 'button':\n",
    "                    button_column = cell.column_letter\n",
    "            if time_column and button_column:\n",
    "                break\n",
    "\n",
    "        if not time_column:\n",
    "            print(f'在文件 {xlsx_file} 中找不到 \"time\" 列。跳过该文件。')\n",
    "            continue\n",
    "\n",
    "        if not button_column:\n",
    "            print(f'在文件 {xlsx_file} 中找不到 \"button\" 列。跳过该文件。')\n",
    "            continue\n",
    "\n",
    "        # 插入 \"times\" 列和 \"timem\" 列\n",
    "        time_column_index = column_index_from_string(time_column)\n",
    "        ws.insert_cols(time_column_index + 1, 4)  # Inserting 4 columns instead of 2\n",
    "        ws.cell(row=1, column=time_column_index + 1).value = 'times'\n",
    "        ws.cell(row=1, column=time_column_index + 2).value = 'timem'\n",
    "        ws.cell(row=1, column=time_column_index + 3).value = 't0'  # New column name\n",
    "        ws.cell(row=1, column=time_column_index + 4).value = 't1'  # New column name\n",
    "\n",
    "        for row in range(2, ws.max_row + 1):\n",
    "            time_cell = ws.cell(row=row, column=time_column_index).value\n",
    "\n",
    "            # 检查 \"time\" 列的值是否为 None 或空字符串\n",
    "            if time_cell is None or time_cell == '':\n",
    "                print(f'在文件 {xlsx_file} 第 {row} 行的 \"time\" 列中存在空值。跳过该行。')\n",
    "                continue\n",
    "\n",
    "            try:\n",
    "                # 进行后续处理\n",
    "                time_cell = int(time_cell)  # 将 time_cell 转换为整数类型\n",
    "            except ValueError:\n",
    "                print(f'在文件 {xlsx_file} 第 {row} 行的 \"time\" 列中存在无效值。跳过该行。')\n",
    "                continue\n",
    "\n",
    "            times_value = time_cell / 1000\n",
    "            timem_value = time_cell / 60000\n",
    "\n",
    "            ws.cell(row=row, column=time_column_index + 1).value = times_value\n",
    "            ws.cell(row=row, column=time_column_index + 2).value = timem_value\n",
    "            ws.cell(row=row, column=time_column_index + 3).value = ''  # Leave it empty for \"t0\"\n",
    "            ws.cell(row=row, column=time_column_index + 4).value = ''  # Leave it empty for \"t1\"\n",
    "    \n",
    "        # 获取最后一列的索引\n",
    "        last_column_index = ws.max_column\n",
    "\n",
    "        # 插入 \"note\" 列\n",
    "        note_column_index = last_column_index + 1  # Insert \"note\" column at the end of the chart\n",
    "        ws.insert_cols(note_column_index)\n",
    "        ws.cell(row=1, column=note_column_index).value = 'note'\n",
    "\n",
    "        # 找出 'button' 列中第一次出现 'correct' 的行\n",
    "        button_column_index = column_index_from_string(button_column)\n",
    "        correct_row = None\n",
    "        for row in range(2, ws.max_row + 1):\n",
    "            if ws.cell(row=row, column=button_column_index).value == 'correct':\n",
    "                correct_row = row\n",
    "                break\n",
    "\n",
    "        # 在 'note' 列中写入 'exp' 对于 'correct' 行及其之前的所有行\n",
    "        if correct_row:\n",
    "            for row in range(2, correct_row + 1):\n",
    "                ws.cell(row=row, column=note_column_index).value = 'exp'\n",
    "\n",
    "        # 保存 XLSX 文件\n",
    "        output_file = os.path.join(output_folder, xlsx_file)\n",
    "        wb.save(output_file)\n",
    "\n",
    "        print(f'修改完成：{output_file}')\n",
    "\n",
    "    print('所有 XLSX 文件已修改。')\n",
    "\n",
    "modify_xlsx_files(folder_path)"
   ]
  },
  {
   "cell_type": "code",
   "execution_count": null,
   "metadata": {},
   "outputs": [],
   "source": []
  }
 ],
 "metadata": {
  "kernelspec": {
   "display_name": "base",
   "language": "python",
   "name": "python3"
  },
  "language_info": {
   "codemirror_mode": {
    "name": "ipython",
    "version": 3
   },
   "file_extension": ".py",
   "mimetype": "text/x-python",
   "name": "python",
   "nbconvert_exporter": "python",
   "pygments_lexer": "ipython3",
   "version": "3.12.4"
  }
 },
 "nbformat": 4,
 "nbformat_minor": 2
}
